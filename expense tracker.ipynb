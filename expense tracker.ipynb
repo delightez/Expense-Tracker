{
 "cells": [
  {
   "cell_type": "markdown",
   "metadata": {},
   "source": [
    "IMPORT PACKAGES"
   ]
  },
  {
   "cell_type": "code",
   "execution_count": 1,
   "metadata": {},
   "outputs": [],
   "source": [
    "import uuid\n",
    "import datetime"
   ]
  },
  {
   "cell_type": "markdown",
   "metadata": {},
   "source": [
    "Constructor (__init__ method)"
   ]
  },
  {
   "cell_type": "code",
   "execution_count": 2,
   "metadata": {},
   "outputs": [],
   "source": [
    "class Expense:\n",
    "    def __init__(self, title: str, amount: float):\n",
    "        self.id = str(uuid.uuid4())  # Generate a unique identifier\n",
    "        self.title = title\n",
    "        self.amount = amount\n",
    "        self.created_at = datetime.datetime.utcnow()\n",
    "        self.updated_at = self.created_at"
   ]
  },
  {
   "cell_type": "markdown",
   "metadata": {},
   "source": [
    "update Method (Modify an expense)"
   ]
  },
  {
   "cell_type": "code",
   "execution_count": 3,
   "metadata": {},
   "outputs": [],
   "source": [
    "def update(self, title: str = None, amount: float = None):\n",
    "        \"\"\"Update the title and/or amount of the expense.\"\"\"\n",
    "        if title:\n",
    "            self.title = title\n",
    "        if amount:\n",
    "            self.amount = amount\n",
    "        self.updated_at = datetime.datetime.utcnow()"
   ]
  },
  {
   "cell_type": "markdown",
   "metadata": {},
   "source": [
    "to_dict Method (Convert expense to a dictionary)"
   ]
  },
  {
   "cell_type": "code",
   "execution_count": 4,
   "metadata": {},
   "outputs": [],
   "source": [
    "def to_dict(self):\n",
    "        \"\"\"Return a dictionary representation of the expense.\"\"\"\n",
    "        return {\n",
    "            \"id\": self.id,\n",
    "            \"title\": self.title,\n",
    "            \"amount\": self.amount,\n",
    "            \"created_at\": self.created_at.isoformat(),\n",
    "            \"updated_at\": self.updated_at.isoformat()\n",
    "        }"
   ]
  },
  {
   "cell_type": "markdown",
   "metadata": {},
   "source": [
    "ExpenseDB Class (Manages multiple expenses),add_expense Method (Add an expense),remove_expense Method (Delete an expense), get_expense_by_id Method (Find an expense by ID), get_expense_by_title Method (Find expenses by title), to_dict Method (Convert all expenses to dictionaries)"
   ]
  },
  {
   "cell_type": "code",
   "execution_count": 5,
   "metadata": {},
   "outputs": [],
   "source": [
    "class ExpenseDB:\n",
    "    def __init__(self):\n",
    "        self.expenses = []  # List to store expenses\n",
    "    \n",
    "    def add_expense(self, expense: Expense):\n",
    "        \"\"\"Add an expense to the database.\"\"\"\n",
    "        self.expenses.append(expense)\n",
    "    \n",
    "    def remove_expense(self, expense_id: str):\n",
    "        \"\"\"Remove an expense by ID.\"\"\"\n",
    "        self.expenses = [exp for exp in self.expenses if exp.id != expense_id]\n",
    "    \n",
    "    def get_expense_by_id(self, expense_id: str):\n",
    "        \"\"\"Retrieve an expense by ID.\"\"\"\n",
    "        for exp in self.expenses:\n",
    "            if exp.id == expense_id:\n",
    "                return exp\n",
    "        return None\n",
    "    \n",
    "    def get_expense_by_title(self, title: str):\n",
    "        \"\"\"Retrieve expenses by title.\"\"\"\n",
    "        return [exp for exp in self.expenses if exp.title.lower() == title.lower()]\n",
    "    \n",
    "    def to_dict(self):\n",
    "        \"\"\"Return a list of dictionaries representing expenses.\"\"\"\n",
    "        return [expense.to_dict() for expense in self.expenses]"
   ]
  }
 ],
 "metadata": {
  "kernelspec": {
   "display_name": "Python 3",
   "language": "python",
   "name": "python3"
  },
  "language_info": {
   "codemirror_mode": {
    "name": "ipython",
    "version": 3
   },
   "file_extension": ".py",
   "mimetype": "text/x-python",
   "name": "python",
   "nbconvert_exporter": "python",
   "pygments_lexer": "ipython3",
   "version": "3.13.2"
  }
 },
 "nbformat": 4,
 "nbformat_minor": 2
}
